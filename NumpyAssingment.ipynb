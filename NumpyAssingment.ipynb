{
 "cells": [
  {
   "cell_type": "code",
   "execution_count": 1,
   "id": "c90dac51-3cce-48e9-b170-da6f3b23a358",
   "metadata": {},
   "outputs": [
    {
     "data": {
      "text/plain": [
       "'A Python library is a collection of pre-written code, functions, modules, and methods that extend the capabilities of Python.\\nThese libraries provide reusable functions and classes that developers can use to perform specific tasks without having to write the code from scratch.\\nWe use python for many resons :\\n1. Code reusability\\n2. Increase productivity\\n3. Specialized Functionality\\n4. Performance Optimization, etc'"
      ]
     },
     "execution_count": 1,
     "metadata": {},
     "output_type": "execute_result"
    }
   ],
   "source": [
    "# 1. What is a Python library? Why do we use Python libraries?\n",
    "\n",
    "\"\"\"A Python library is a collection of pre-written code, functions, modules, and methods that extend the capabilities of Python.\n",
    "These libraries provide reusable functions and classes that developers can use to perform specific tasks without having to write the code from scratch.\n",
    "We use python for many resons :\n",
    "1. Code reusability\n",
    "2. Increase productivity\n",
    "3. Specialized Functionality\n",
    "4. Performance Optimization, etc\"\"\""
   ]
  },
  {
   "cell_type": "code",
   "execution_count": 2,
   "id": "3812ef83-7c8c-4b95-af91-8b75d8fd80d4",
   "metadata": {},
   "outputs": [
    {
     "data": {
      "text/plain": [
       "'NumPy arrays and Python lists are both used to store collections of data, but they have some key differences:\\n1. NumPy arrays are homogeneous, meaning that all elements in the array must have the same data type whereas Python lists can hold elements of different data types, making them more flexible but potentially less efficient for numerical computations.\\n2. Numpy store data in contiguous memory blocks and have a fixed size whereas List store references to objects, which can lead to more memory overhead and fragmentation.\\n3. umPy arrays are preferred for numerical computations and operations on large datasets due to their efficiency and performance, while Python lists are more versatile and suitable for general-purpose use cases.\\n'"
      ]
     },
     "execution_count": 2,
     "metadata": {},
     "output_type": "execute_result"
    }
   ],
   "source": [
    "# 2. What is the difference between Numpy array and List?\n",
    "\n",
    "\"\"\"NumPy arrays and Python lists are both used to store collections of data, but they have some key differences:\n",
    "1. NumPy arrays are homogeneous, meaning that all elements in the array must have the same data type whereas Python lists can hold elements of different data types, making them more flexible but potentially less efficient for numerical computations.\n",
    "2. Numpy store data in contiguous memory blocks and have a fixed size whereas List store references to objects, which can lead to more memory overhead and fragmentation.\n",
    "3. umPy arrays are preferred for numerical computations and operations on large datasets due to their efficiency and performance, while Python lists are more versatile and suitable for general-purpose use cases.\n",
    "\"\"\""
   ]
  },
  {
   "cell_type": "code",
   "execution_count": 3,
   "id": "e17a0f7e-9fd0-4cd2-af69-251d09729562",
   "metadata": {},
   "outputs": [
    {
     "name": "stdout",
     "output_type": "stream",
     "text": [
      "Shape of the given array is :  (3, 4)\n",
      "Size of the given array is :  12\n",
      "Dimension of the given array is :  2\n"
     ]
    }
   ],
   "source": [
    "# 3.  Find the shape, size and dimension of the following array?\n",
    "# [[1, 2, 3, 4]\n",
    "# [5, 6, 7, 8],\n",
    "# [9, 10, 11, 12]]\n",
    "\n",
    "import numpy as np\n",
    "arr = np.array([[1, 2, 3, 4],[5, 6, 7, 8],[9, 10, 11, 12]])\n",
    "arr_shape = arr.shape\n",
    "arr_size = arr.size\n",
    "arr_dim = arr.ndim\n",
    "print(\"Shape of the given array is : \", arr_shape)\n",
    "print(\"Size of the given array is : \", arr_size)\n",
    "print(\"Dimension of the given array is : \", arr_dim)"
   ]
  },
  {
   "cell_type": "code",
   "execution_count": 4,
   "id": "6c3d553e-ec17-4619-8384-367192ddfc63",
   "metadata": {},
   "outputs": [
    {
     "name": "stdout",
     "output_type": "stream",
     "text": [
      "First row of the array: [1 2 3 4]\n"
     ]
    }
   ],
   "source": [
    "# 4. Write python code to access the first row of the following array?\n",
    "# [[1, 2, 3, 4]\n",
    "# [5, 6, 7, 8],\n",
    "# [9, 10, 11, 12]]\n",
    "\n",
    "arr2 = np.array([[1, 2, 3, 4],[5, 6, 7, 8],[9, 10, 11, 12]])\n",
    "first_row = arr2[0]\n",
    "\n",
    "print(\"First row of the array:\", first_row)"
   ]
  },
  {
   "cell_type": "code",
   "execution_count": 5,
   "id": "e9bd683b-ea1b-4798-9cef-cee4b57694bb",
   "metadata": {},
   "outputs": [
    {
     "name": "stdout",
     "output_type": "stream",
     "text": [
      "Element at the third row and fourth column: 12\n"
     ]
    }
   ],
   "source": [
    "# 5. How do you access the element at the third row and fourth column from the given numpy array?\n",
    "# [[1, 2, 3, 4]\n",
    "# [5, 6, 7, 8],\n",
    "# [9, 10, 11, 12]]\n",
    "\n",
    "arr3 = np.array([[1, 2, 3, 4],[5, 6, 7, 8],[9, 10, 11, 12]])\n",
    "element = arr3[2, 3]\n",
    "\n",
    "print(\"Element at the third row and fourth column:\", element)"
   ]
  },
  {
   "cell_type": "code",
   "execution_count": 6,
   "id": "3fcdef24-dcad-4e69-8f00-2ef54ddc2992",
   "metadata": {},
   "outputs": [
    {
     "name": "stdout",
     "output_type": "stream",
     "text": [
      "Odd-indexed elements from the array: \n",
      " [[ 2  4]\n",
      " [ 6  8]\n",
      " [10 12]]\n"
     ]
    }
   ],
   "source": [
    "# 6. Write code to extract all odd-indexed elements from the given numpy array?\n",
    "# [[1, 2, 3, 4]\n",
    "# [5, 6, 7, 8],\n",
    "# [9, 10, 11, 12]]\n",
    "\n",
    "arr4 = np.array([[1, 2, 3, 4],[5, 6, 7, 8],[9, 10, 11, 12]])\n",
    "odd_indexed_elements = arr4[:, 1::2]\n",
    "\n",
    "print(\"Odd-indexed elements from the array: \\n\", odd_indexed_elements)\n"
   ]
  },
  {
   "cell_type": "code",
   "execution_count": 7,
   "id": "5773c315-9ea6-4787-a95d-80f9ece102d8",
   "metadata": {},
   "outputs": [
    {
     "data": {
      "text/plain": [
       "array([[0.42242794, 0.75175468, 0.88198492],\n",
       "       [0.8254828 , 0.31266231, 0.83847333],\n",
       "       [0.61454871, 0.83885442, 0.44064567]])"
      ]
     },
     "execution_count": 7,
     "metadata": {},
     "output_type": "execute_result"
    }
   ],
   "source": [
    "# 7. How can you generate a ran^om 3x3 matrix with values between 0 and 1?\n",
    "\n",
    "arr5 = np.random.rand(3,3)\n",
    "arr5"
   ]
  },
  {
   "cell_type": "code",
   "execution_count": 8,
   "id": "2a8907e5-3090-44a2-a056-9fafc060f20f",
   "metadata": {},
   "outputs": [
    {
     "data": {
      "text/plain": [
       "'np.random.rand generates random numbers from a uniform distribution over the interval [0, 1), while np.random.randn generates random numbers from a standard normal distribution.'"
      ]
     },
     "execution_count": 8,
     "metadata": {},
     "output_type": "execute_result"
    }
   ],
   "source": [
    "# 8. Describe the difference between np.random.rand and np.random.randn?\n",
    "\n",
    "\"\"\"np.random.rand generates random numbers from a uniform distribution over the interval [0, 1), while np.random.randn generates random numbers from a standard normal distribution.\"\"\""
   ]
  },
  {
   "cell_type": "code",
   "execution_count": 9,
   "id": "e9d3e2d2-625f-4b89-9824-81ed03ad556e",
   "metadata": {},
   "outputs": [
    {
     "name": "stdout",
     "output_type": "stream",
     "text": [
      "Array after increasing dimension : \n",
      " [[[ 1  2  3]\n",
      "  [ 4  5  6]]\n",
      "\n",
      " [[ 7  8  9]\n",
      "  [10 11 12]]]\n"
     ]
    }
   ],
   "source": [
    "# 9. Write code to increase the dimension of the following array?\n",
    "# [[1, 2, 3, 4]\n",
    "# [5, 6, 7, 8],\n",
    "# [9, 10, 11, 12]]\n",
    "\n",
    "arr6 = np.array([[1, 2, 3, 4],[5, 6, 7, 8],[9, 10, 11, 12]])\n",
    "\n",
    "print(\"Array after increasing dimension : \\n\", arr6.reshape(2,2,3))"
   ]
  },
  {
   "cell_type": "code",
   "execution_count": 10,
   "id": "5d768e4a-7d24-404b-9349-3cccf74fbae0",
   "metadata": {},
   "outputs": [
    {
     "name": "stdout",
     "output_type": "stream",
     "text": [
      "Array after transpose is : \n",
      " [[ 1  5  9]\n",
      " [ 2  6 10]\n",
      " [ 3  7 11]\n",
      " [ 4  8 12]]\n"
     ]
    }
   ],
   "source": [
    "# 10. How to transpose the following array in NumPy?\n",
    "# [[1, 2, 3, 4]\n",
    "# [5, 6, 7, 8],\n",
    "# [9, 10, 11, 12]]\n",
    "\n",
    "arr7 = np.array([[1, 2, 3, 4],[5, 6, 7, 8],[9, 10, 11, 12]])\n",
    "\n",
    "print(\"Array after transpose is : \\n\", arr7.T)"
   ]
  },
  {
   "cell_type": "code",
   "execution_count": 11,
   "id": "dc2e8e78-9eee-4934-8bb9-8229c639d7d1",
   "metadata": {},
   "outputs": [
    {
     "data": {
      "text/plain": [
       "array([[  1,   4,   9,  16],\n",
       "       [ 25,  36,  49,  64],\n",
       "       [ 81, 100, 121, 144]])"
      ]
     },
     "execution_count": 11,
     "metadata": {},
     "output_type": "execute_result"
    }
   ],
   "source": [
    "# 11.  Consi^er the following matrix:\n",
    "# Matrix A2 [[1, 2, 3, 4] [5, 6, 7, 8],[9, 10, 11, 12]]\n",
    "# Matrix B2 [[1, 2, 3, 4] [5, 6, 7, 8],[9, 10, 11, 12]]\n",
    "\n",
    "# Perform the following operation using Python1\n",
    "\n",
    "arr8 = np.array([[1, 2, 3, 4],[5, 6, 7, 8],[9, 10, 11, 12]])\n",
    "arr9 = np.array([[1, 2, 3, 4],[5, 6, 7, 8],[9, 10, 11, 12]])\n",
    "\n",
    "# Index wise multiplication.\n",
    "arr8*arr9"
   ]
  },
  {
   "cell_type": "code",
   "execution_count": 12,
   "id": "5825b7d0-da4a-4fe3-8c7e-8b8b2adc7b7e",
   "metadata": {},
   "outputs": [
    {
     "data": {
      "text/plain": [
       "array([[ 30,  70, 110],\n",
       "       [ 70, 174, 278],\n",
       "       [110, 278, 446]])"
      ]
     },
     "execution_count": 12,
     "metadata": {},
     "output_type": "execute_result"
    }
   ],
   "source": [
    "# Matrix Multiplication\n",
    "# Not possible because requirement not matched for matrix multiplication but can be done with transpose\n",
    "\n",
    "arr8 @ arr9.T"
   ]
  },
  {
   "cell_type": "code",
   "execution_count": 13,
   "id": "24187822-9dac-41d5-abb2-ea3e7e8a47ea",
   "metadata": {},
   "outputs": [
    {
     "data": {
      "text/plain": [
       "array([[ 2,  4,  6,  8],\n",
       "       [10, 12, 14, 16],\n",
       "       [18, 20, 22, 24]])"
      ]
     },
     "execution_count": 13,
     "metadata": {},
     "output_type": "execute_result"
    }
   ],
   "source": [
    "# Add both matrix\n",
    "arr8 + arr9"
   ]
  },
  {
   "cell_type": "code",
   "execution_count": 14,
   "id": "f310d823-1936-467c-aad9-998af61987fa",
   "metadata": {},
   "outputs": [
    {
     "data": {
      "text/plain": [
       "array([[0, 0, 0, 0],\n",
       "       [0, 0, 0, 0],\n",
       "       [0, 0, 0, 0]])"
      ]
     },
     "execution_count": 14,
     "metadata": {},
     "output_type": "execute_result"
    }
   ],
   "source": [
    "# Subtract matrix B from matrix A\n",
    "arr8 - arr9"
   ]
  },
  {
   "cell_type": "code",
   "execution_count": 15,
   "id": "dcaadc52-4572-451e-9e00-592d23d62213",
   "metadata": {},
   "outputs": [
    {
     "data": {
      "text/plain": [
       "array([[1., 1., 1., 1.],\n",
       "       [1., 1., 1., 1.],\n",
       "       [1., 1., 1., 1.]])"
      ]
     },
     "execution_count": 15,
     "metadata": {},
     "output_type": "execute_result"
    }
   ],
   "source": [
    "# Divide matrix B by A\n",
    "arr9/arr8"
   ]
  },
  {
   "cell_type": "code",
   "execution_count": 16,
   "id": "90847fd3-2c87-4dbb-a5d2-28738ec20137",
   "metadata": {},
   "outputs": [
    {
     "data": {
      "text/plain": [
       "'np.ndarray.byteswap()'"
      ]
     },
     "execution_count": 16,
     "metadata": {},
     "output_type": "execute_result"
    }
   ],
   "source": [
    "# 12. Which function in Numpy can be used to swap the byte or^er of an array?\n",
    "\n",
    "\"\"\"np.ndarray.byteswap()\"\"\""
   ]
  },
  {
   "cell_type": "code",
   "execution_count": 17,
   "id": "f2f6eece-6893-4661-a311-5dab6e3c5471",
   "metadata": {},
   "outputs": [
    {
     "data": {
      "text/plain": [
       "'The np.linalg.inv function in NumPy is used to compute the inverse of a square matrix.'"
      ]
     },
     "execution_count": 17,
     "metadata": {},
     "output_type": "execute_result"
    }
   ],
   "source": [
    "# 13.  What is the significance of the np.linalg.inv function?\n",
    "\n",
    "\"\"\"The np.linalg.inv function in NumPy is used to compute the inverse of a square matrix.\"\"\""
   ]
  },
  {
   "cell_type": "code",
   "execution_count": 18,
   "id": "40c2063c-cc9b-47b1-b5d3-4c066403e200",
   "metadata": {},
   "outputs": [
    {
     "name": "stdout",
     "output_type": "stream",
     "text": [
      "Original array:\n",
      "[1 2 3 4 5 6]\n",
      "\n",
      "Reshaped array:\n",
      "[[1 2 3]\n",
      " [4 5 6]]\n"
     ]
    }
   ],
   "source": [
    "# 14. What does the np.reshape function do, and how is it used?\n",
    "\n",
    "\"\"\"The np.reshape function in NumPy is used to change the shape (dimensions) of an array while keeping the underlying data unchanged. It allows you to reorganize the elements of the array into a new shape without altering their values.\"\"\"\n",
    "\n",
    "arr10 = np.array([1, 2, 3, 4, 5, 6])\n",
    "\n",
    "reshaped_arr = np.reshape(arr10, (2, 3))\n",
    "\n",
    "print(\"Original array:\")\n",
    "print(arr10)\n",
    "\n",
    "print(\"\\nReshaped array:\")\n",
    "print(reshaped_arr)"
   ]
  },
  {
   "cell_type": "code",
   "execution_count": 19,
   "id": "6804b367-07aa-4929-8624-77a1c4b2ae44",
   "metadata": {},
   "outputs": [
    {
     "data": {
      "text/plain": [
       "'Broadcasting in NumPy is a powerful mechanism that allows arrays of different shapes to be combined together in arithmetic operations, even if their shapes do not match exactly. It enables efficient computation on arrays without the need for explicit looping operations.'"
      ]
     },
     "execution_count": 19,
     "metadata": {},
     "output_type": "execute_result"
    }
   ],
   "source": [
    "# 15. What is broadcasting in Numpy?\n",
    "\n",
    "\"\"\"Broadcasting in NumPy is a powerful mechanism that allows arrays of different shapes to be combined together in arithmetic operations, even if their shapes do not match exactly. It enables efficient computation on arrays without the need for explicit looping operations.\"\"\""
   ]
  },
  {
   "cell_type": "code",
   "execution_count": null,
   "id": "d06f9a6b-f599-4dd3-b933-52c3eb2aa6c2",
   "metadata": {},
   "outputs": [],
   "source": []
  }
 ],
 "metadata": {
  "kernelspec": {
   "display_name": "Python 3 (ipykernel)",
   "language": "python",
   "name": "python3"
  },
  "language_info": {
   "codemirror_mode": {
    "name": "ipython",
    "version": 3
   },
   "file_extension": ".py",
   "mimetype": "text/x-python",
   "name": "python",
   "nbconvert_exporter": "python",
   "pygments_lexer": "ipython3",
   "version": "3.12.0"
  }
 },
 "nbformat": 4,
 "nbformat_minor": 5
}
